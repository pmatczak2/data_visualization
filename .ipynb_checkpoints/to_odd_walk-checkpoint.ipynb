{
 "cells": [
  {
   "cell_type": "markdown",
   "metadata": {},
   "source": [
    "# creating the random_walk calss"
   ]
  },
  {
   "cell_type": "code",
   "execution_count": 3,
   "metadata": {},
   "outputs": [],
   "source": [
    "from random import choice#to make random decisions store possible moves in list adn use the choice() function \n",
    "                        #from random module to decide which move to make each thime a step is taken.\n",
    "    \n",
    "class RandomWalk:\n",
    "    \n",
    "    def __init__(self, num_points=5000):#set defult number of points in walk to 5000\n",
    "        self.num_points = num_points\n",
    "        \n",
    "        self.x = [0]#make 2 lists to hold the x- adn y- values and we start each walk at the pointn (0, 0)\n",
    "        self.y = [0]"
   ]
  },
  {
   "cell_type": "markdown",
   "metadata": {},
   "source": [
    "# choosing direction"
   ]
  },
  {
   "cell_type": "code",
   "execution_count": 2,
   "metadata": {},
   "outputs": [],
   "source": [
    "from random import choice\n",
    "\n",
    "class RandomWalk:\n",
    "    \n",
    "    def __init__(self, num_points=5000):\n",
    "        self.num_points = num_points\n",
    "        \n",
    "        self.x = [0]\n",
    "        self.y = [0]\n",
    "    \n",
    "    def foll_walk(self):#loop that runs until the walk is filled. main part of the fill_walk() tells python to \n",
    "        while len(self.x_values) < self.num_points:#simulate 4 different direction.\n",
    "    \n",
    "            x_direction = choice([1, -1])#choose a value for x_direction, returns 1 for right or -1 for let\n",
    "            x_distcance = choice([0, 1, 2, 3, 4])#here tells Python how far to move in that direction\n",
    "            x_step_ = x_direction * x_distance\n",
    "\n",
    "            y_direction = choice([1, -1])\n",
    "            y_direction = choice([0, 1, 2, 3, 4])\n",
    "            y_step = y_direction * y_distance\n",
    "\n",
    "            if x_step == 0 and y_step == 0:\n",
    "                continue\n",
    "\n",
    "            x = self.x_values[-1] + x_step\n",
    "            y = self.y_values[-1] + y_step\n",
    "\n",
    "            self.x_values.append(x)\n",
    "            self.y_values.append(y)"
   ]
  },
  {
   "cell_type": "code",
   "execution_count": null,
   "metadata": {},
   "outputs": [],
   "source": []
  }
 ],
 "metadata": {
  "kernelspec": {
   "display_name": "Python 3",
   "language": "python",
   "name": "python3"
  },
  "language_info": {
   "codemirror_mode": {
    "name": "ipython",
    "version": 3
   },
   "file_extension": ".py",
   "mimetype": "text/x-python",
   "name": "python",
   "nbconvert_exporter": "python",
   "pygments_lexer": "ipython3",
   "version": "3.8.5"
  }
 },
 "nbformat": 4,
 "nbformat_minor": 4
}
